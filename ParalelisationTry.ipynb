{
 "cells": [
  {
   "cell_type": "code",
   "execution_count": null,
   "metadata": {},
   "outputs": [
    {
     "name": "stdout",
     "output_type": "stream",
     "text": [
      "Jupyter environment detected. Enabling Open3D WebVisualizer.\n",
      "[Open3D INFO] WebRTC GUI backend enabled.\n",
      "[Open3D INFO] WebRTCWindowSystem: HTTP handshake server disabled.\n"
     ]
    }
   ],
   "source": [
    "import open3d as o3d\n",
    "import numpy as np\n",
    "\n",
    "input_file = \"centered.ply\"\n",
    "pcd = o3d.io.read_point_cloud(input_file)\n",
    "\n",
    "vertices = np.asarray(pcd.points)\n",
    "distances = np.linalg.norm(vertices, axis=1)\n",
    "normalized_distances = (distances - np.min(distances)) / (np.max(distances) - np.min(distances))\n",
    "\n",
    "colors = np.repeat(normalized_distances[:, np.newaxis], 3, axis=1)\n",
    "colors = 1 - colors\n",
    "\n",
    "pcd.colors = o3d.utility.Vector3dVector(colors)\n",
    "\n",
    "pcd.estimate_normals()\n",
    "pcd.orient_normals_consistent_tangent_plane(k=30)\n",
    "\n",
    "distances = pcd.compute_nearest_neighbor_distance()\n",
    "avg_dist = np.mean(distances)\n",
    "radius = 3 * avg_dist\n",
    "\n",
    "radius2 = o3d.utility.DoubleVector([radius, radius * 2])\n",
    "mesh = o3d.geometry.TriangleMesh.create_from_point_cloud_ball_pivoting(pcd, o3d.utility.DoubleVector(radius2))\n",
    "\n",
    "o3d.visualization.draw_geometries([mesh], mesh_show_back_face=True)"
   ]
  },
  {
   "cell_type": "markdown",
   "metadata": {},
   "source": [
    "A fenti jó"
   ]
  },
  {
   "cell_type": "code",
   "execution_count": null,
   "metadata": {},
   "outputs": [],
   "source": [
    "import open3d as o3d\n",
    "import numpy as np\n",
    "from numba import njit, prange\n",
    "import cupy as cp\n",
    "\n",
    "#@njit(parallel=True)\n",
    "#def calculate_distances_numba(vertices):\n",
    "#    distances = np.empty(vertices.shape[0])\n",
    "#    for i in prange(vertices.shape[0]):\n",
    "#        distances[i] = np.sqrt(vertices[i,0]**2 + vertices[i,1]**2 + vertices[i,2]**2)\n",
    "#    return distances\n",
    "\n",
    "def calculate_distances_cupy(vertices):\n",
    "    vertices_gpu = cp.asarray(vertices)\n",
    "    distances_gpu = cp.linalg.norm(vertices_gpu, axis=1)\n",
    "    return cp.asnumpy(distances_gpu)\n",
    "\n",
    "input_file = \"centered.ply\"\n",
    "pcd = o3d.io.read_point_cloud(input_file)\n",
    "vertices = np.asarray(pcd.points)\n",
    "\n",
    "\n",
    "# distances = calculate_distances_numba(vertices)  # CPU paralelisation\n",
    "distances = calculate_distances_cupy(vertices)  # GPU paralelisation\n",
    "\n",
    "min_dist = np.min(distances)\n",
    "max_dist = np.max(distances)\n",
    "normalized_distances = (distances - min_dist) / (max_dist - min_dist)\n",
    "colors = np.repeat(normalized_distances[:, np.newaxis], 3, axis=1)\n",
    "colors = 1 - colors\n",
    "\n",
    "pcd.colors = o3d.utility.Vector3dVector(colors)\n",
    "pcd.estimate_normals()\n",
    "pcd.orient_normals_consistent_tangent_plane(k=30)\n",
    "\n",
    "o3d.visualization.draw_geometries([pcd])"
   ]
  },
  {
   "cell_type": "markdown",
   "metadata": {},
   "source": [
    "random teszt: kb 20 perc"
   ]
  },
  {
   "cell_type": "code",
   "execution_count": null,
   "metadata": {},
   "outputs": [],
   "source": [
    "import open3d as o3d\n",
    "import numpy as np\n",
    "import cupy as cp\n",
    "\n",
    "input_file = \"centered.ply\"\n",
    "pcd = o3d.io.read_point_cloud(input_file)\n",
    "\n",
    "vertices = cp.asarray(pcd.points)\n",
    "distances = cp.linalg.norm(vertices, axis=1).get()\n",
    "normalized_distances = (distances - np.min(distances)) / (np.max(distances) - np.min(distances))\n",
    "\n",
    "colors = np.repeat(normalized_distances[:, np.newaxis], 3, axis=1)\n",
    "colors = 1 - colors\n",
    "pcd.colors = o3d.utility.Vector3dVector(colors)\n",
    "\n",
    "pcd.estimate_normals(search_param=o3d.geometry.KDTreeSearchParamHybrid(radius=0.1, max_nn=30))\n",
    "pcd.orient_normals_consistent_tangent_plane(k=30)\n",
    "\n",
    "distances = pcd.compute_nearest_neighbor_distance()\n",
    "avg_dist = np.mean(distances)\n",
    "radii = o3d.utility.DoubleVector([radius, radius*2])\n",
    "\n",
    "mesh = o3d.geometry.TriangleMesh.create_from_point_cloud_ball_pivoting(pcd, radii)\n",
    "\n",
    "vis = o3d.visualization.Visualizer()\n",
    "vis.create_window()\n",
    "vis.add_geometry(mesh)\n",
    "ctr = vis.get_view_control()\n",
    "ctr.set_front([0, 0, -1])\n",
    "ctr.set_up([0, 1, 0])\n",
    "mesh.compute_vertex_normals()\n",
    "vis.update_renderer()\n",
    "vis.run()\n",
    "vis.destroy_window()"
   ]
  }
 ],
 "metadata": {
  "kernelspec": {
   "display_name": "base",
   "language": "python",
   "name": "python3"
  },
  "language_info": {
   "codemirror_mode": {
    "name": "ipython",
    "version": 3
   },
   "file_extension": ".py",
   "mimetype": "text/x-python",
   "name": "python",
   "nbconvert_exporter": "python",
   "pygments_lexer": "ipython3",
   "version": "3.12.7"
  }
 },
 "nbformat": 4,
 "nbformat_minor": 2
}
