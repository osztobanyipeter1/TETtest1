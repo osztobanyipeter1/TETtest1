{
 "cells": [
  {
   "cell_type": "code",
   "execution_count": 1,
   "id": "188c26b1",
   "metadata": {},
   "outputs": [
    {
     "name": "stdout",
     "output_type": "stream",
     "text": [
      "Jupyter environment detected. Enabling Open3D WebVisualizer.\n",
      "[Open3D INFO] WebRTC GUI backend enabled.\n",
      "[Open3D INFO] WebRTCWindowSystem: HTTP handshake server disabled.\n",
      "vertices shape: (395700, 3)\n"
     ]
    }
   ],
   "source": [
    "import open3d as o3d\n",
    "import numpy as np\n",
    "import fpsample\n",
    "\n",
    "input_file = \"centered.ply\"\n",
    "pcd = o3d.io.read_point_cloud(input_file)\n",
    "vertices = np.asarray(pcd.points)\n",
    "print(\"vertices shape:\", vertices.shape)"
   ]
  },
  {
   "cell_type": "code",
   "execution_count": 2,
   "id": "6846d8b2",
   "metadata": {},
   "outputs": [
    {
     "name": "stdout",
     "output_type": "stream",
     "text": [
      "[ 35743 285477  56311 ... 334376 368722 135843]\n"
     ]
    }
   ],
   "source": [
    "sampled_indices = fpsample.bucket_fps_kdtree_sampling(vertices, 10000)\n",
    "sampled_pcd = pcd.select_by_index(sampled_indices)\n",
    "print(sampled_indices)"
   ]
  },
  {
   "cell_type": "code",
   "execution_count": 3,
   "id": "a8488178",
   "metadata": {},
   "outputs": [],
   "source": [
    "distances = np.linalg.norm(vertices[sampled_indices], axis=1)\n",
    "normalized_distances = (distances - np.min(distances)) / (np.max(distances) - np.min(distances))\n",
    "colors = 1 - np.repeat(normalized_distances[:, np.newaxis], 3, axis=1)\n",
    "sampled_pcd.colors = o3d.utility.Vector3dVector(colors)\n",
    "\n",
    "sampled_pcd.estimate_normals(search_param=o3d.geometry.KDTreeSearchParamHybrid(radius=0.05, max_nn=30))\n",
    "sampled_pcd.orient_normals_consistent_tangent_plane(k=30)"
   ]
  },
  {
   "cell_type": "code",
   "execution_count": 4,
   "id": "e2e0454c",
   "metadata": {},
   "outputs": [
    {
     "data": {
      "text/plain": [
       "TriangleMesh with 10000 points and 10279 triangles."
      ]
     },
     "execution_count": 4,
     "metadata": {},
     "output_type": "execute_result"
    }
   ],
   "source": [
    "distances = sampled_pcd.compute_nearest_neighbor_distance()\n",
    "avg_dist = np.mean(distances)\n",
    "radii = o3d.utility.DoubleVector([avg_dist, avg_dist*1.5, avg_dist*3])\n",
    "#Try to find the most trinangulated mesh\n",
    "mesh = o3d.geometry.TriangleMesh.create_from_point_cloud_ball_pivoting(sampled_pcd, radii)\n",
    "mesh = mesh.filter_smooth_taubin(number_of_iterations=30)\n",
    "mesh.compute_triangle_normals()\n",
    "mesh.compute_vertex_normals()"
   ]
  },
  {
   "cell_type": "code",
   "execution_count": 5,
   "id": "27f8d66e",
   "metadata": {},
   "outputs": [],
   "source": [
    "o3d.io.write_triangle_mesh(\"output_mesh.ply\", mesh)\n",
    "\n",
    "o3d.visualization.draw_geometries(\n",
    "    [mesh],\n",
    "    mesh_show_back_face=True,\n",
    "    mesh_show_wireframe=False,\n",
    "    window_name=\"Optimalizált 3D Modell\"\n",
    ")"
   ]
  }
 ],
 "metadata": {
  "kernelspec": {
   "display_name": "base",
   "language": "python",
   "name": "python3"
  },
  "language_info": {
   "codemirror_mode": {
    "name": "ipython",
    "version": 3
   },
   "file_extension": ".py",
   "mimetype": "text/x-python",
   "name": "python",
   "nbconvert_exporter": "python",
   "pygments_lexer": "ipython3",
   "version": "3.12.7"
  }
 },
 "nbformat": 4,
 "nbformat_minor": 5
}
